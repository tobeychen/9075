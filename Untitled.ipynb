{
 "cells": [
  {
   "cell_type": "code",
   "execution_count": null,
   "id": "c7345e06-1234-47bc-a2cd-8a4c35d46d4b",
   "metadata": {},
   "outputs": [
    {
     "data": {
      "text/plain": [
       "13"
      ]
     },
     "execution_count": 47,
     "metadata": {},
     "output_type": "execute_result"
    }
   ],
   "source": [
    "import requests\n",
    "import json\n",
    "overpass_url = \"http://overpass-api.de/api/interpreter\"\n",
    "overpass_query = \"\"\"\n",
    "[out:json];\n",
    "area(3602316593);\n",
    "area[\"ISO3166-2\"=\"AU-NSW\"][admin_level=4];\n",
    "(node[\"amenity\"=\"hospital\"](area);\n",
    " way[\"amenity\"=\"hospital\"](area);\n",
    " rel[\"amenity\"=\"hospital\"](area);\n",
    ");\n",
    "out center;\n",
    "\"\"\"\n",
    "\n",
    "response = requests.get(overpass_url, \n",
    "                        params={'data': overpass_query})\n",
    "data = response.json()\n",
    "# len(data['elements'])\n",
    "data['elements']\n",
    "# data"
   ]
  },
  {
   "cell_type": "code",
   "execution_count": 14,
   "id": "9235c10c-23ad-4ade-9666-7e826206d50e",
   "metadata": {},
   "outputs": [
    {
     "data": {
      "image/png": "[encoded data removed]",
      "text/plain": [
       "<Figure size 640x480 with 1 Axes>"
      ]
     },
     "metadata": {},
     "output_type": "display_data"
    }
   ],
   "source": [
    "import numpy as np\n",
    "import matplotlib.pyplot as plt\n",
    "# Collect coords into list\n",
    "coords = []\n",
    "for element in data['elements']:\n",
    "  if element['type'] == 'node':\n",
    "    lon = element['lon']\n",
    "    lat = element['lat']\n",
    "    coords.append((lon, lat))\n",
    "  elif 'center' in element:\n",
    "    lon = element['center']['lon']\n",
    "    lat = element['center']['lat']\n",
    "    coords.append((lon, lat))\n",
    "# Convert coordinates into numpy array\n",
    "X = np.array(coords)\n",
    "plt.plot(X[:, 0], X[:, 1], 'o')\n",
    "plt.title('hospital in AU-NSW')\n",
    "plt.xlabel('Longitude')\n",
    "plt.ylabel('Latitude')\n",
    "plt.axis('equal')\n",
    "plt.show()"
   ]
  },
  {
   "cell_type": "code",
   "execution_count": 44,
   "id": "b39922b4-7e2f-4b87-8711-936d11c2aaae",
   "metadata": {},
   "outputs": [
    {
     "name": "stdout",
     "output_type": "stream",
     "text": [
      "Collecting geopy\n",
      "  Downloading geopy-2.3.0-py3-none-any.whl (119 kB)\n",
      "\u001b[2K     \u001b[90m━━━━━━━━━━━━━━━━━━━━━━━━━━━━━━━━━━━━━━━\u001b[0m \u001b[32m119.8/119.8 kB\u001b[0m \u001b[31m2.6 MB/s\u001b[0m eta \u001b[36m0:00:00\u001b[0ma \u001b[36m0:00:01\u001b[0m\n",
      "\u001b[?25hCollecting geographiclib<3,>=1.52\n",
      "  Downloading geographiclib-2.0-py3-none-any.whl (40 kB)\n",
      "\u001b[2K     \u001b[90m━━━━━━━━━━━━━━━━━━━━━━━━━━━━━━━━━━━━━━━━\u001b[0m \u001b[32m40.3/40.3 kB\u001b[0m \u001b[31m4.3 MB/s\u001b[0m eta \u001b[36m0:00:00\u001b[0m\n",
      "\u001b[?25hInstalling collected packages: geographiclib, geopy\n",
      "Successfully installed geographiclib-2.0 geopy-2.3.0\n",
      "Note: you may need to restart the kernel to use updated packages.\n"
     ]
    }
   ],
   "source": [
    "pip install geopy"
   ]
  },
  {
   "cell_type": "code",
   "execution_count": 49,
   "id": "c8159691-d55c-4f8e-9beb-4e86da08547c",
   "metadata": {},
   "outputs": [
    {
     "name": "stdout",
     "output_type": "stream",
     "text": [
      "    SUA_CODE_2021                            SUA_NAME_2021 AUS_CODE_2021  \\\n",
      "0            1000  Not in any Significant Urban Area (NSW)           AUS   \n",
      "1            1001                         Albury - Wodonga           AUS   \n",
      "2            1002                                 Armidale           AUS   \n",
      "3            1003                                  Ballina           AUS   \n",
      "4            1004                             Batemans Bay           AUS   \n",
      "..            ...                                      ...           ...   \n",
      "107          7002                                   Darwin           AUS   \n",
      "108          8000  Not in any Significant Urban Area (ACT)           AUS   \n",
      "109          8001                    Canberra - Queanbeyan           AUS   \n",
      "110          9000   Not in any Significant Urban Area (OT)           AUS   \n",
      "111          ZZZZ                        Outside Australia           AUS   \n",
      "\n",
      "    AUS_NAME_2021  AREA_ALBERS_SQKM  \\\n",
      "0       Australia       786334.6808   \n",
      "1       Australia          628.2525   \n",
      "2       Australia          274.5996   \n",
      "3       Australia          480.5548   \n",
      "4       Australia           94.3021   \n",
      "..            ...               ...   \n",
      "107     Australia          378.0391   \n",
      "108     Australia         1879.4621   \n",
      "109     Australia          517.0934   \n",
      "110     Australia          255.7420   \n",
      "111     Australia               NaN   \n",
      "\n",
      "                                    ASGS_LOCI_URI_2021  \\\n",
      "0    https://linked.data.gov.au/dataset/asgsed3/SUA...   \n",
      "1    https://linked.data.gov.au/dataset/asgsed3/SUA...   \n",
      "2    https://linked.data.gov.au/dataset/asgsed3/SUA...   \n",
      "3    https://linked.data.gov.au/dataset/asgsed3/SUA...   \n",
      "4    https://linked.data.gov.au/dataset/asgsed3/SUA...   \n",
      "..                                                 ...   \n",
      "107  https://linked.data.gov.au/dataset/asgsed3/SUA...   \n",
      "108  https://linked.data.gov.au/dataset/asgsed3/SUA...   \n",
      "109  https://linked.data.gov.au/dataset/asgsed3/SUA...   \n",
      "110  https://linked.data.gov.au/dataset/asgsed3/SUA...   \n",
      "111  https://linked.data.gov.au/dataset/asgsed3/SUA...   \n",
      "\n",
      "                                              geometry  \n",
      "0    MULTIPOLYGON (((149.95503 -37.10869, 149.95505...  \n",
      "1    MULTIPOLYGON (((147.09592 -36.04051, 147.09591...  \n",
      "2    MULTIPOLYGON (((151.66895 -30.43596, 151.66892...  \n",
      "3    MULTIPOLYGON (((153.56836 -28.89247, 153.56842...  \n",
      "4    MULTIPOLYGON (((150.21565 -35.74990, 150.21557...  \n",
      "..                                                 ...  \n",
      "107  MULTIPOLYGON (((130.94241 -12.52688, 130.94195...  \n",
      "108  MULTIPOLYGON (((149.04048 -35.28834, 149.03944...  \n",
      "109  MULTIPOLYGON (((149.02508 -35.23869, 149.02530...  \n",
      "110  MULTIPOLYGON (((96.84195 -12.20340, 96.84195 -...  \n",
      "111                                               None  \n",
      "\n",
      "[112 rows x 7 columns]\n"
     ]
    }
   ],
   "source": [
    "df_population = pd.read_csv('Cleaned_Age_in_Five_Year_Groups_in_SUA.csv', header = 0, names = ['city', '0_4years','5_9years','10_14years', '15_19years', '20_24years', '25_29years', '30_34years', '35_39years', '40_44years', '45_49years', '50_54years', '55_59years', '60_64years', '65_69years', '70_74years', '75_79years', '80_84years', '85_89years', '90_94years', '95_99years', '100years_and_over', 'total']);\n",
    "# df"
   ]
  },
  {
   "cell_type": "code",
   "execution_count": null,
   "id": "d5b6176e-b5fa-4940-9946-00fb9cde38ad",
   "metadata": {},
   "outputs": [],
   "source": [
    "df.loc[:, '65years_and_over'] = ('65_69years' + '70_74years' + '75_79years' + '80_84years' + '85_89years' + '90_94years' + '95_99years' + '100years_and_over')\n",
    "\n",
    "df = df.drop(columns=['0_4years','5_9years','10_14years', '15_19years', '20_24years', '25_29years', '30_34years', '35_39years', '40_44years', '45_49years', '50_54years', '55_59years', '60_64years', '65_69years', '70_74years', '75_79years', '80_84years', '85_89years', '90_94years', '95_99years', '100years_and_over'\n",
    "])\n",
    "\n",
    "df = df.loc[:, ['city', '65_years_and_over', 'total', 'state']]"
   ]
  }
 ],
 "metadata": {
  "kernelspec": {
   "display_name": "Python 3 (ipykernel)",
   "language": "python",
   "name": "python3"
  },
  "language_info": {
   "codemirror_mode": {
    "name": "ipython",
    "version": 3
   },
   "file_extension": ".py",
   "mimetype": "text/x-python",
   "name": "python",
   "nbconvert_exporter": "python",
   "pygments_lexer": "ipython3",
   "version": "3.9.13"
  }
 },
 "nbformat": 4,
 "nbformat_minor": 5
}
